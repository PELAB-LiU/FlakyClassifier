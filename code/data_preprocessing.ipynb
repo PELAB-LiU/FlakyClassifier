{
 "cells": [
  {
   "cell_type": "code",
   "execution_count": 2,
   "metadata": {},
   "outputs": [],
   "source": [
    "import pandas as pd \n"
   ]
  },
  {
   "cell_type": "code",
   "execution_count": 3,
   "metadata": {},
   "outputs": [],
   "source": [
    "# read datasets\n",
    "\n",
    "# Java datasets from FlakyCat\n",
    "data_file = 'test_files_v0.csv'\n",
    "data_file1 = 'test_files_v12.csv'\n",
    "\n",
    "# load java datasets\n",
    "data = pd.read_csv(data_file, index_col=None)\n",
    "data1 = pd.read_csv(data_file1, index_col=None)"
   ]
  },
  {
   "cell_type": "code",
   "execution_count": 4,
   "metadata": {},
   "outputs": [
    {
     "data": {
      "text/plain": [
       "label\n",
       "async wait                   125\n",
       "test order dependency        103\n",
       "unordered collections         51\n",
       "concurrency                   48\n",
       "time                          42\n",
       "network                       31\n",
       "randomness                    17\n",
       "test case timeout             14\n",
       "resource leak                 10\n",
       "too restrictive range          3\n",
       "floating point operations      3\n",
       "i_o                            2\n",
       "platform dependency            2\n",
       "Name: count, dtype: int64"
      ]
     },
     "execution_count": 4,
     "metadata": {},
     "output_type": "execute_result"
    }
   ],
   "source": [
    "data.value_counts('label')"
   ]
  },
  {
   "cell_type": "code",
   "execution_count": 5,
   "metadata": {},
   "outputs": [
    {
     "data": {
      "text/plain": [
       "label\n",
       "async wait                   251\n",
       "test order dependency        188\n",
       "unordered collections        102\n",
       "concurrency                   96\n",
       "time                          80\n",
       "network                       62\n",
       "randomness                    33\n",
       "test case timeout             28\n",
       "resource leak                 18\n",
       "too restrictive range          6\n",
       "floating point operations      6\n",
       "i_o                            4\n",
       "platform dependency            4\n",
       "Name: count, dtype: int64"
      ]
     },
     "execution_count": 5,
     "metadata": {},
     "output_type": "execute_result"
    }
   ],
   "source": [
    "data1.value_counts('label')"
   ]
  },
  {
   "cell_type": "code",
   "execution_count": 6,
   "metadata": {},
   "outputs": [],
   "source": [
    "# combine datasets\n",
    "df = pd.DataFrame(columns=['text', 'label'])\n",
    "df = pd.concat([data, data1], axis=0)"
   ]
  },
  {
   "cell_type": "code",
   "execution_count": 7,
   "metadata": {},
   "outputs": [
    {
     "data": {
      "text/plain": [
       "label\n",
       "async wait                   376\n",
       "test order dependency        291\n",
       "unordered collections        153\n",
       "concurrency                  144\n",
       "time                         122\n",
       "network                       93\n",
       "randomness                    50\n",
       "test case timeout             42\n",
       "resource leak                 28\n",
       "floating point operations      9\n",
       "too restrictive range          9\n",
       "i_o                            6\n",
       "platform dependency            6\n",
       "Name: count, dtype: int64"
      ]
     },
     "execution_count": 7,
     "metadata": {},
     "output_type": "execute_result"
    }
   ],
   "source": [
    "df['label'].value_counts()"
   ]
  },
  {
   "cell_type": "code",
   "execution_count": 11,
   "metadata": {},
   "outputs": [],
   "source": [
    "# remove categories counts less than 15\n",
    "df = df[df['label']!='floating point operations']\n",
    "df = df[df['label']!='too restrictive range']\n",
    "df = df[df['label']!='i_o']\n",
    "df = df[df['label']!='platform dependency']"
   ]
  },
  {
   "cell_type": "code",
   "execution_count": 12,
   "metadata": {},
   "outputs": [
    {
     "data": {
      "text/plain": [
       "label\n",
       "async wait               376\n",
       "test order dependency    291\n",
       "unordered collections    153\n",
       "concurrency              144\n",
       "time                     122\n",
       "network                   93\n",
       "randomness                50\n",
       "test case timeout         42\n",
       "resource leak             28\n",
       "Name: count, dtype: int64"
      ]
     },
     "execution_count": 12,
     "metadata": {},
     "output_type": "execute_result"
    }
   ],
   "source": [
    "df['label'].value_counts()"
   ]
  },
  {
   "cell_type": "code",
   "execution_count": 13,
   "metadata": {},
   "outputs": [
    {
     "data": {
      "text/plain": [
       "text     1299\n",
       "label    1299\n",
       "dtype: int64"
      ]
     },
     "execution_count": 13,
     "metadata": {},
     "output_type": "execute_result"
    }
   ],
   "source": [
    "df.count()"
   ]
  },
  {
   "cell_type": "code",
   "execution_count": 14,
   "metadata": {},
   "outputs": [],
   "source": [
    "# java datasets labels\n",
    "\n",
    "id2label = {0:'async wait',1:'concurrency',2:'unordered collections',3:'test case timeout',4:'time',\n",
    "        5:'test order dependency',6:'floating point operations', 7:'randomness',8:'network',9:'i_o',\n",
    "        10:'resource leak', 11:'too restrictive range', 12:'platform dependency'}\n",
    "label2id = {v:k for k,v in id2label.items()}\n",
    "\n",
    "df['label'] = df['label'].map(label2id)\n",
    "df.value_counts(\"label\")"
   ]
  },
  {
   "cell_type": "code",
   "execution_count": 20,
   "metadata": {},
   "outputs": [],
   "source": [
    "# label2id = {'async wait':0,'concurrency':1,'time':3,'Too restrictive range': \n",
    "#             4,'hash operation': 5,'Float point': 6,'test data sensitive':2, 'I/O':7, 'unordered collection':8, 'randomness':9}\n",
    "# id2label = {v:k for k,v in label2id.items()}\n",
    "\n",
    "# data = pd.read_excel(data_file, index_col=False)\n",
    "# data.rename(columns={'flaky code':'text'}, inplace=True)\n",
    "#df['label'] = df['label'].map(label2id)"
   ]
  },
  {
   "cell_type": "code",
   "execution_count": 18,
   "metadata": {},
   "outputs": [
    {
     "data": {
      "text/html": [
       "<div>\n",
       "<style scoped>\n",
       "    .dataframe tbody tr th:only-of-type {\n",
       "        vertical-align: middle;\n",
       "    }\n",
       "\n",
       "    .dataframe tbody tr th {\n",
       "        vertical-align: top;\n",
       "    }\n",
       "\n",
       "    .dataframe thead th {\n",
       "        text-align: right;\n",
       "    }\n",
       "</style>\n",
       "<table border=\"1\" class=\"dataframe\">\n",
       "  <thead>\n",
       "    <tr style=\"text-align: right;\">\n",
       "      <th></th>\n",
       "      <th>text</th>\n",
       "      <th>label</th>\n",
       "    </tr>\n",
       "  </thead>\n",
       "  <tbody>\n",
       "    <tr>\n",
       "      <th>0</th>\n",
       "      <td>public void testLookupNameNotFound() throws E...</td>\n",
       "      <td>5</td>\n",
       "    </tr>\n",
       "    <tr>\n",
       "      <th>1</th>\n",
       "      <td>public void testGenerateCleanupCallback_delet...</td>\n",
       "      <td>4</td>\n",
       "    </tr>\n",
       "    <tr>\n",
       "      <th>2</th>\n",
       "      <td>public void shouldNotRemoveConstraintThatGets...</td>\n",
       "      <td>10</td>\n",
       "    </tr>\n",
       "    <tr>\n",
       "      <th>3</th>\n",
       "      <td>public void passedTest() throws IOException {...</td>\n",
       "      <td>5</td>\n",
       "    </tr>\n",
       "    <tr>\n",
       "      <th>4</th>\n",
       "      <td>public void testActualRuntimes() { Random t =...</td>\n",
       "      <td>7</td>\n",
       "    </tr>\n",
       "    <tr>\n",
       "      <th>...</th>\n",
       "      <td>...</td>\n",
       "      <td>...</td>\n",
       "    </tr>\n",
       "    <tr>\n",
       "      <th>320</th>\n",
       "      <td>public void testAddLocation() throws Exceptio...</td>\n",
       "      <td>0</td>\n",
       "    </tr>\n",
       "    <tr>\n",
       "      <th>321</th>\n",
       "      <td>@Test public void recurringJobWithErrorShould...</td>\n",
       "      <td>1</td>\n",
       "    </tr>\n",
       "    <tr>\n",
       "      <th>322</th>\n",
       "      <td>public void duplexWithRedirect() throws Excep...</td>\n",
       "      <td>0</td>\n",
       "    </tr>\n",
       "    <tr>\n",
       "      <th>323</th>\n",
       "      <td>public void invalidationInAnotherInstance_clo...</td>\n",
       "      <td>0</td>\n",
       "    </tr>\n",
       "    <tr>\n",
       "      <th>324</th>\n",
       "      <td>public void experimentTest() throws IOExcepti...</td>\n",
       "      <td>0</td>\n",
       "    </tr>\n",
       "  </tbody>\n",
       "</table>\n",
       "<p>325 rows × 2 columns</p>\n",
       "</div>"
      ],
      "text/plain": [
       "                                                  text  label\n",
       "0     public void testLookupNameNotFound() throws E...      5\n",
       "1     public void testGenerateCleanupCallback_delet...      4\n",
       "2     public void shouldNotRemoveConstraintThatGets...     10\n",
       "3     public void passedTest() throws IOException {...      5\n",
       "4     public void testActualRuntimes() { Random t =...      7\n",
       "..                                                 ...    ...\n",
       "320   public void testAddLocation() throws Exceptio...      0\n",
       "321   @Test public void recurringJobWithErrorShould...      1\n",
       "322   public void duplexWithRedirect() throws Excep...      0\n",
       "323   public void invalidationInAnotherInstance_clo...      0\n",
       "324   public void experimentTest() throws IOExcepti...      0\n",
       "\n",
       "[325 rows x 2 columns]"
      ]
     },
     "execution_count": 18,
     "metadata": {},
     "output_type": "execute_result"
    }
   ],
   "source": [
    "from sklearn.model_selection import train_test_split\n",
    "\n",
    "X_train, X_test, y_train, y_test = train_test_split(df['text'],df['label'], test_size=0.25, shuffle=True, random_state=7)\n",
    "\n",
    "train_data = pd.DataFrame(columns=['text', 'label'])\n",
    "test_data = pd.DataFrame(columns=['text', 'label'])\n",
    "\n",
    "train_data = pd.concat([X_train, y_train], axis=1 )\n",
    "test_data = pd.concat([X_test, y_test],axis=1)\n",
    "\n",
    "train_data.reset_index(drop=True)\n",
    "test_data.reset_index(drop=True)"
   ]
  },
  {
   "cell_type": "code",
   "execution_count": 19,
   "metadata": {},
   "outputs": [
    {
     "data": {
      "text/html": [
       "<div>\n",
       "<style scoped>\n",
       "    .dataframe tbody tr th:only-of-type {\n",
       "        vertical-align: middle;\n",
       "    }\n",
       "\n",
       "    .dataframe tbody tr th {\n",
       "        vertical-align: top;\n",
       "    }\n",
       "\n",
       "    .dataframe thead th {\n",
       "        text-align: right;\n",
       "    }\n",
       "</style>\n",
       "<table border=\"1\" class=\"dataframe\">\n",
       "  <thead>\n",
       "    <tr style=\"text-align: right;\">\n",
       "      <th></th>\n",
       "      <th>text</th>\n",
       "      <th>label</th>\n",
       "    </tr>\n",
       "  </thead>\n",
       "  <tbody>\n",
       "    <tr>\n",
       "      <th>277</th>\n",
       "      <td>public void testMonitor() throws IOException...</td>\n",
       "      <td>0</td>\n",
       "    </tr>\n",
       "    <tr>\n",
       "      <th>345</th>\n",
       "      <td>public void testGetValidAddressWithNotValid()...</td>\n",
       "      <td>8</td>\n",
       "    </tr>\n",
       "    <tr>\n",
       "      <th>716</th>\n",
       "      <td>public void testLookupBindingUsingNestedConte...</td>\n",
       "      <td>5</td>\n",
       "    </tr>\n",
       "    <tr>\n",
       "      <th>168</th>\n",
       "      <td>public void journalBlockCreation() throws Ex...</td>\n",
       "      <td>0</td>\n",
       "    </tr>\n",
       "    <tr>\n",
       "      <th>668</th>\n",
       "      <td>public void testListBindingsWithContinuation(...</td>\n",
       "      <td>5</td>\n",
       "    </tr>\n",
       "    <tr>\n",
       "      <th>...</th>\n",
       "      <td>...</td>\n",
       "      <td>...</td>\n",
       "    </tr>\n",
       "    <tr>\n",
       "      <th>216</th>\n",
       "      <td>public void test() throws Exception { capture...</td>\n",
       "      <td>0</td>\n",
       "    </tr>\n",
       "    <tr>\n",
       "      <th>63</th>\n",
       "      <td>public void testCompositeKeys() { EntityHelpe...</td>\n",
       "      <td>2</td>\n",
       "    </tr>\n",
       "    <tr>\n",
       "      <th>100</th>\n",
       "      <td>public void dreamTest() throws Exception { Ma...</td>\n",
       "      <td>0</td>\n",
       "    </tr>\n",
       "    <tr>\n",
       "      <th>799</th>\n",
       "      <td>public void duplexWithRedirect() throws Excep...</td>\n",
       "      <td>0</td>\n",
       "    </tr>\n",
       "    <tr>\n",
       "      <th>177</th>\n",
       "      <td>public void testProduceWithTopicLevelPermissi...</td>\n",
       "      <td>3</td>\n",
       "    </tr>\n",
       "  </tbody>\n",
       "</table>\n",
       "<p>974 rows × 2 columns</p>\n",
       "</div>"
      ],
      "text/plain": [
       "                                                  text  label\n",
       "277    public void testMonitor() throws IOException...      0\n",
       "345   public void testGetValidAddressWithNotValid()...      8\n",
       "716   public void testLookupBindingUsingNestedConte...      5\n",
       "168    public void journalBlockCreation() throws Ex...      0\n",
       "668   public void testListBindingsWithContinuation(...      5\n",
       "..                                                 ...    ...\n",
       "216   public void test() throws Exception { capture...      0\n",
       "63    public void testCompositeKeys() { EntityHelpe...      2\n",
       "100   public void dreamTest() throws Exception { Ma...      0\n",
       "799   public void duplexWithRedirect() throws Excep...      0\n",
       "177   public void testProduceWithTopicLevelPermissi...      3\n",
       "\n",
       "[974 rows x 2 columns]"
      ]
     },
     "execution_count": 19,
     "metadata": {},
     "output_type": "execute_result"
    }
   ],
   "source": [
    "train_data"
   ]
  },
  {
   "cell_type": "code",
   "execution_count": 20,
   "metadata": {},
   "outputs": [],
   "source": [
    "train_data.to_csv('java_train.csv', index=False)\n",
    "test_data.to_csv('java_test.csv', index=False)"
   ]
  },
  {
   "cell_type": "code",
   "execution_count": null,
   "metadata": {},
   "outputs": [],
   "source": [
    "train_data.to_csv('flaky_C_train.csv', index=False)\n",
    "test_data.to_csv('flaky_C_test.csv', index=False)"
   ]
  }
 ],
 "metadata": {
  "kernelspec": {
   "display_name": ".venv",
   "language": "python",
   "name": "python3"
  },
  "language_info": {
   "codemirror_mode": {
    "name": "ipython",
    "version": 3
   },
   "file_extension": ".py",
   "mimetype": "text/x-python",
   "name": "python",
   "nbconvert_exporter": "python",
   "pygments_lexer": "ipython3",
   "version": "3.12.3"
  }
 },
 "nbformat": 4,
 "nbformat_minor": 2
}
